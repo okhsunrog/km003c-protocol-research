{
 "cells": [
  {
   "cell_type": "markdown",
   "metadata": {},
   "source": [
    "# USB Protocol Analysis\n",
    "\n",
    "Simple analysis of KM003C USB captures."
   ]
  },
  {
   "cell_type": "code",
   "execution_count": 1,
   "metadata": {},
   "outputs": [
    {
     "name": "stdout",
     "output_type": "stream",
     "text": [
      "✅ Loaded 12,008 USB packets from /home/okhsunrog/code/km003c-protocol-research/usb_master_dataset.parquet\n",
      "Loaded 12008 USB packets\n"
     ]
    }
   ],
   "source": [
    "import polars as pl\n",
    "import sys\n",
    "from pathlib import Path\n",
    "\n",
    "# Find project root and add scripts to path\n",
    "project_root = Path.cwd()\n",
    "while not (project_root / \"pyproject.toml\").exists():\n",
    "    project_root = project_root.parent\n",
    "\n",
    "sys.path.insert(0, str(project_root / \"analysis\" / \"scripts\"))\n",
    "import helpers\n",
    "\n",
    "# Load data\n",
    "df = helpers.load_master_dataset(project_root / \"usb_master_dataset.parquet\")\n",
    "print(f\"Loaded {len(df)} USB packets\")"
   ]
  },
  {
   "cell_type": "code",
   "execution_count": 2,
   "metadata": {},
   "outputs": [
    {
     "name": "stdout",
     "output_type": "stream",
     "text": [
      "Available source files:\n",
      "1. orig_adc_record.6 (420 packets)\n",
      "2. orig_open_close.16 (152 packets)\n",
      "3. pd_capture_new.9 (6930 packets)\n",
      "4. orig_with_pd.13 (2056 packets)\n",
      "5. orig_adc_50hz.6 (570 packets)\n",
      "6. rust_simple_logger.16 (146 packets)\n",
      "7. orig_adc_1000hz.6 (1240 packets)\n",
      "8. orig_new_adcsimple0.12 (494 packets)\n"
     ]
    }
   ],
   "source": [
    "# Show available source files\n",
    "source_files = df[\"source_file\"].unique().to_list()\n",
    "print(\"Available source files:\")\n",
    "for i, file in enumerate(source_files):\n",
    "    count = len(df.filter(pl.col(\"source_file\") == file))\n",
    "    print(f\"{i + 1}. {file} ({count} packets)\")"
   ]
  },
  {
   "cell_type": "code",
   "execution_count": 3,
   "metadata": {},
   "outputs": [
    {
     "name": "stdout",
     "output_type": "stream",
     "text": [
      "Analyzing: orig_open_close.16\n",
      "Found 28 logical transactions. Displaying first 20:\n",
      "+------------+-------------+-----------------------------------+-------------+-------------+--------------+-----------------------------------+\n",
      "| start_time | duration_ms | transaction_flow                  | request_len | request_hex | response_len | response_hex                      |\n",
      "| ---        | ---         | ---                               | ---         | ---         | ---          | ---                               |\n",
      "| f64        | f64         | str                               | i64         | str         | i64          | str                               |\n",
      "+=============================================================================================================================================+\n",
      "| 5.372177   | 0.097       | Generic → Generic                 | 4           | 02010000    | 4            | 05010000                          |\n",
      "| 5.374058   | 0.182       | Generic → Generic                 | 36          | 44020101... | 20           | c40201012004000040000000ffffff... |\n",
      "| 5.410979   | 0.185       | Generic → Generic                 | 36          | 44030101... | 20           | c40301012044000040000000ffffff... |\n",
      "| 5.899088   | 0.155       | Generic → Generic                 | 36          | 44040101... | 20           | c4040101000c000340000000ffffff... |\n",
      "| 5.912901   | 0.186       | Generic → Generic                 | 36          | 44050101... | 20           | c4050101500401400c000000ffffff... |\n",
      "| 5.926871   | 0.209       | Generic → Generic                 | 36          | 4c060002... | 36           | 4c00030283bee4d494a658666a74e6... |\n",
      "| 5.927411   | 0.302       | Generic → Generic                 | 4           | 0c071000    | 188          | 4107020b0800002d610150f8000000... |\n",
      "| 5.927996   | 0.894       | Generic → Generic                 | 4           | 0c080004    | 8            | 4108c2ff00020000                  |\n",
      "| 5.929886   | 0.093       | Generic → Generic                 | 4           | 0f090000    | 4            | 05090000                          |\n",
      "| 5.990915   | 0.187       | CmdGetSimpleAdcData → SimpleAd... | 4           | 0c0a0200    | 52           | 410a82020100000b5c0f0000faffff... |\n",
      "| 6.200257   | 0.157       | CmdGetSimpleAdcData → SimpleAd... | 4           | 0c0b0200    | 52           | 410b82020100000ba70f0000f6ffff... |\n",
      "| 6.410078   | 0.156       | CmdGetSimpleAdcData → SimpleAd... | 4           | 0c0c0200    | 52           | 410c82020100000ba70f0000f6ffff... |\n",
      "| 6.619927   | 0.157       | CmdGetSimpleAdcData → SimpleAd... | 4           | 0c0d0200    | 52           | 410d82020100000b750f0000faffff... |\n",
      "| 6.820073   | 0.188       | CmdGetSimpleAdcData → SimpleAd... | 4           | 0c0e0200    | 52           | 410e82020100000b750f0000faffff... |\n",
      "| 7.030091   | 0.161       | CmdGetSimpleAdcData → SimpleAd... | 4           | 0c0f0200    | 52           | 410f82020100000b9c0f0000e2ffff... |\n",
      "| 7.240102   | 0.272       | CmdGetSimpleAdcData → SimpleAd... | 4           | 0c100200    | 52           | 411082020100000b9c0f0000e2ffff... |\n",
      "| 7.450206   | 0.173       | CmdGetSimpleAdcData → SimpleAd... | 4           | 0c110200    | 52           | 411182020100000b9c0f0000e2ffff... |\n",
      "| 7.659962   | 0.184       | CmdGetSimpleAdcData → SimpleAd... | 4           | 0c120200    | 52           | 411282020100000bb90f0000eeffff... |\n",
      "| 7.860203   | 0.161       | CmdGetSimpleAdcData → SimpleAd... | 4           | 0c130200    | 52           | 411382020100000bb90f0000eeffff... |\n",
      "| 8.070162   | 0.16        | CmdGetSimpleAdcData → SimpleAd... | 4           | 0c140200    | 52           | 411482020100000be60f0000f2ffff... |\n",
      "+------------+-------------+-----------------------------------+-------------+-------------+--------------+-----------------------------------+\n",
      "... and 8 more transactions.\n"
     ]
    }
   ],
   "source": [
    "# Analyze a specific file (change the filename as needed)\n",
    "selected_file = \"orig_open_close.16\"  # Change this to analyze different files\n",
    "\n",
    "filtered_df = df.filter(pl.col(\"source_file\") == selected_file)\n",
    "print(f\"Analyzing: {selected_file}\")\n",
    "\n",
    "# Get transactions\n",
    "transactions = helpers.get_transactions(filtered_df, filter_out_enumeration=True)\n",
    "helpers.print_transaction_log(transactions, limit=20)"
   ]
  }
 ],
 "metadata": {
  "kernelspec": {
   "display_name": ".venv",
   "language": "python",
   "name": "python3"
  },
  "language_info": {
   "codemirror_mode": {
    "name": "ipython",
    "version": 3
   },
   "file_extension": ".py",
   "mimetype": "text/x-python",
   "name": "python",
   "nbconvert_exporter": "python",
   "pygments_lexer": "ipython3",
   "version": "3.11.13"
  }
 },
 "nbformat": 4,
 "nbformat_minor": 2
}
