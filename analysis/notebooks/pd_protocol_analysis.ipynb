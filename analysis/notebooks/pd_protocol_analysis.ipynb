{
 "cells": [
  {
   "cell_type": "markdown",
   "metadata": {},
   "source": [
    "# KM003C PD Protocol Analysis\n",
    "\n",
    "This notebook focuses on analyzing the USB Power Delivery (PD) protocol functionality of the KM003C device.\n",
    "\n",
    "**Step by step investigation of PD files:**\n",
    "- `orig_with_pd.13`\n",
    "- `pd_capture_new.9`"
   ]
  },
  {
   "cell_type": "code",
   "execution_count": 3,
   "metadata": {},
   "outputs": [
    {
     "name": "stdout",
     "output_type": "stream",
     "text": [
      "✅ Loaded 12,008 USB packets from /home/okhsunrog/code/km003c-protocol-research/usb_master_dataset.parquet\n",
      "Dataset loaded successfully!\n",
      "Total packets: 12008\n",
      "Source files: ['orig_adc_1000hz.6', 'orig_adc_50hz.6', 'orig_with_pd.13', 'orig_new_adcsimple0.12', 'pd_capture_new.9', 'orig_adc_record.6', 'orig_open_close.16', 'rust_simple_logger.16']\n"
     ]
    }
   ],
   "source": [
    "import polars as pl\n",
    "import sys\n",
    "from pathlib import Path\n",
    "\n",
    "# Setup paths\n",
    "project_root = Path.cwd()\n",
    "while not (project_root / 'pyproject.toml').exists():\n",
    "    project_root = project_root.parent\n",
    "    \n",
    "analysis_scripts_path = project_root / 'analysis' / 'scripts'\n",
    "sys.path.insert(0, str(analysis_scripts_path))\n",
    "\n",
    "import helpers\n",
    "\n",
    "# Load dataset\n",
    "df = helpers.load_master_dataset(project_root / 'usb_master_dataset.parquet')\n",
    "\n",
    "print(\"Dataset loaded successfully!\")\n",
    "print(f\"Total packets: {len(df)}\")\n",
    "print(f\"Source files: {df['source_file'].unique().to_list()}\")"
   ]
  },
  {
   "cell_type": "code",
   "execution_count": 4,
   "metadata": {},
   "outputs": [
    {
     "name": "stdout",
     "output_type": "stream",
     "text": [
      "\n",
      "============================================================\n",
      "FILE: orig_with_pd.13\n",
      "============================================================\n",
      "Packets in orig_with_pd.13: 2056\n",
      "Time range: 0.000s - 42.093s\n",
      "Duration: 42.093s\n",
      "\n",
      "Packet types in orig_with_pd.13:\n",
      "shape: (3, 4)\n",
      "┌───────────────┬───────────┬───────┬────────────┐\n",
      "│ transfer_type ┆ direction ┆ count ┆ avg_length │\n",
      "│ ---           ┆ ---       ┆ ---   ┆ ---        │\n",
      "│ str           ┆ str       ┆ u32   ┆ f64        │\n",
      "╞═══════════════╪═══════════╪═══════╪════════════╡\n",
      "│ 0x03          ┆ D->H      ┆ 1022  ┆ 15.225049  │\n",
      "│ 0x03          ┆ H->D      ┆ 1008  ┆ 2.15873    │\n",
      "│ 0x02          ┆ D->H      ┆ 26    ┆ 13.038462  │\n",
      "└───────────────┴───────────┴───────┴────────────┘\n",
      "\n",
      "============================================================\n",
      "FILE: pd_capture_new.9\n",
      "============================================================\n",
      "Packets in pd_capture_new.9: 6930\n",
      "Time range: 0.000s - 295.600s\n",
      "Duration: 295.600s\n",
      "\n",
      "Packet types in pd_capture_new.9:\n",
      "shape: (3, 4)\n",
      "┌───────────────┬───────────┬───────┬────────────┐\n",
      "│ transfer_type ┆ direction ┆ count ┆ avg_length │\n",
      "│ ---           ┆ ---       ┆ ---   ┆ ---        │\n",
      "│ str           ┆ str       ┆ u32   ┆ f64        │\n",
      "╞═══════════════╪═══════════╪═══════╪════════════╡\n",
      "│ 0x03          ┆ H->D      ┆ 3462  ┆ 2.0        │\n",
      "│ 0x03          ┆ D->H      ┆ 3462  ┆ 23.247834  │\n",
      "│ 0x02          ┆ D->H      ┆ 6     ┆ 26.166667  │\n",
      "└───────────────┴───────────┴───────┴────────────┘\n"
     ]
    }
   ],
   "source": [
    "# Step 1: Examine the two PD files\n",
    "\n",
    "pd_files = ['orig_with_pd.13', 'pd_capture_new.9']\n",
    "\n",
    "for pd_file in pd_files:\n",
    "    print(f\"\\n{'='*60}\")\n",
    "    print(f\"FILE: {pd_file}\")\n",
    "    print('='*60)\n",
    "    \n",
    "    # Filter for this PD file\n",
    "    pd_df = df.filter(pl.col('source_file') == pd_file)\n",
    "    \n",
    "    print(f\"Packets in {pd_file}: {len(pd_df)}\")\n",
    "    print(f\"Time range: {pd_df['timestamp'].min():.3f}s - {pd_df['timestamp'].max():.3f}s\")\n",
    "    print(f\"Duration: {pd_df['timestamp'].max() - pd_df['timestamp'].min():.3f}s\")\n",
    "    \n",
    "    # Show packet overview\n",
    "    packet_overview = pd_df.group_by(['transfer_type', 'direction']).agg([\n",
    "        pl.len().alias('count'),\n",
    "        pl.col('data_length').mean().alias('avg_length')\n",
    "    ]).sort('count', descending=True)\n",
    "    \n",
    "    print(f\"\\nPacket types in {pd_file}:\")\n",
    "    print(packet_overview)"
   ]
  },
  {
   "cell_type": "markdown",
   "metadata": {},
   "source": [
    "## PD Protocol Investigation Notes\n",
    "\n",
    "Use this section to document findings about the KM003C PD protocol functionality:\n",
    "\n",
    "### Key Observations\n",
    "- [ ] PD packet identification patterns\n",
    "- [ ] Command/response structures  \n",
    "- [ ] Timing characteristics\n",
    "- [ ] Error handling patterns\n",
    "\n",
    "### Protocol Structure\n",
    "- [ ] PD message types discovered\n",
    "- [ ] Payload format analysis\n",
    "- [ ] Transaction flow patterns\n",
    "\n",
    "### Next Steps\n",
    "- [ ] Implement PD-specific packet parsing\n",
    "- [ ] Add PD message decoding\n",
    "- [ ] Create PD visualization tools"
   ]
  }
 ],
 "metadata": {
  "kernelspec": {
   "display_name": ".venv",
   "language": "python",
   "name": "python3"
  },
  "language_info": {
   "codemirror_mode": {
    "name": "ipython",
    "version": 3
   },
   "file_extension": ".py",
   "mimetype": "text/x-python",
   "name": "python",
   "nbconvert_exporter": "python",
   "pygments_lexer": "ipython3",
   "version": "3.11.13"
  }
 },
 "nbformat": 4,
 "nbformat_minor": 4
}
