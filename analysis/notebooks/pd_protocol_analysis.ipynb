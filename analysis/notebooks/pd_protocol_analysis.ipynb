{
 "cells": [
  {
   "cell_type": "markdown",
   "metadata": {},
   "source": "# KM003C PD Protocol Analysis - Complete Understanding\n\nBased on official KM003C documentation and extensive analysis, we now have complete understanding of the protocol structure.\n\n## Key Discoveries\n\n### ADC Packet Structure (All Variants)\n```c\n// Main header (4 bytes) - Always present\nstruct data {\n    uint32_t type : 7;    // 65 (CMD_PUT_DATA)  \n    uint32_t extend : 1;  // Purpose unknown, not size indicator\n    uint32_t id : 8;      // Transaction ID\n    uint32_t : 6;         // Unused  \n    uint32_t obj : 10;    // Object count (total packet size / 4)\n}\n\n// Extended header (4 bytes) - Always present for ADC\nstruct header {\n    uint32_t att : 15;    // 1 (ATT_ADC)\n    uint32_t next : 1;    // 0=standard, 1=has PD extension  \n    uint32_t chunk : 6;   // Always 0 for ADC\n    uint32_t size : 10;   // ADC payload size (40-44 bytes)\n}\n\n// ADC Data (48 bytes) - Complete measurement structure\ntypedef struct {\n    int32_t Vbus;         // 1µV units\n    int32_t Ibus;         // 1µA units  \n    int32_t Vbus_avg;     // Smoothed voltage\n    int32_t Ibus_avg;     // Smoothed current\n    int32_t Vbus_ori_avg; // Uncalibrated voltage\n    int32_t Ibus_ori_avg; // Uncalibrated current\n    int16_t Temp;         // Internal temperature\n    uint16_t Vcc1;        // CC1 voltage (0.1mV)\n    uint16_t Vcc2;        // CC2 voltage (0.1mV) \n    uint16_t Vdp;         // D+ voltage (0.1mV)\n    uint16_t Vdm;         // D- voltage (0.1mV)\n    uint16_t Vdd;         // Internal VDD voltage (0.1mV)\n    uint8_t Rate:2;       // Sample rate\n    uint8_t n[3];         // Reserved\n} AdcData_TypeDef;\n\n// Optional PD Extension (12-32 bytes)\n// Present when next=1 in extended header\n// Contains PD timestamps, events, additional measurements\n```\n\n### Packet Variants by Size\n- **Standard ADC**: obj=0x202 → 52 bytes (4+4+44 bytes)\n- **Extended PD v1**: obj=0x203 → 68 bytes (52 + 16 PD bytes)  \n- **Extended PD v2**: obj=0x204 → 84 bytes (52 + 32 PD bytes)\n\n### Command Types Discovered\n- **CmdGetSimpleAdcData** → **SimpleAdcData** (standard ADC)\n- **CmdGetSimpleAdcData** → **Extended ADC + PD data** (PD mode)\n- **CmdGetPdData** → **PdRawData** (pure PD protocol capture)\n\n## Investigation Focus\n\n**PD Files Analysis:**\n- `orig_with_pd.13`: 347 PD packets + 128 ADC + 19 extended ADC\n- `pd_capture_new.9`: 310 PD packets + 1,401 ADC + 18 extended ADC"
  },
  {
   "cell_type": "code",
   "execution_count": null,
   "metadata": {},
   "outputs": [],
   "source": "import polars as pl\nimport sys\nfrom pathlib import Path\nimport matplotlib.pyplot as plt\n\n# Setup paths\nproject_root = Path.cwd()\nwhile not (project_root / 'pyproject.toml').exists():\n    project_root = project_root.parent\n    \nanalysis_scripts_path = project_root / 'analysis' / 'scripts'\nsys.path.insert(0, str(analysis_scripts_path))\n\nimport helpers\nfrom km003c_lib import parse_packet\n\n# Load dataset\ndf = helpers.load_master_dataset(project_root / 'usb_master_dataset.parquet')\n\nprint(\"✅ Dataset loaded successfully!\")\nprint(f\"Total packets: {len(df)}\")\n\n# Analyze both PD files with complete understanding\npd_files = ['orig_with_pd.13', 'pd_capture_new.9']\n\nfor pd_file in pd_files:\n    print(f\"\\n{'='*50}\")\n    print(f\"📋 ANALYZING: {pd_file}\")\n    print('='*50)\n    \n    # Get transactions for this file\n    pd_df = df.filter(pl.col('source_file') == pd_file)\n    transactions = helpers.get_transactions(pd_df, filter_out_enumeration=True)\n    \n    # Analyze packet type distribution\n    packet_dist = transactions.group_by(['type', 'packet_type']).agg(\n        pl.len().alias('count')\n    ).sort('count', descending=True)\n    \n    print(\"Packet type distribution:\")\n    print(packet_dist)\n    \n    # Focus on ADC packets with different sizes\n    adc_responses = transactions.filter(\n        (pl.col('type') == 'Device Response') & \n        (pl.col('payload_hex').str.starts_with('41'))\n    )\n    \n    if len(adc_responses) > 0:\n        size_dist = adc_responses.group_by('payload_length').agg([\n            pl.len().alias('count'),\n            pl.col('packet_type').first().alias('parsed_type')\n        ]).sort('payload_length')\n        \n        print(f\"\\nADC response size analysis:\")\n        for row in size_dist.iter_rows(named=True):\n            size = row['payload_length'] \n            count = row['count']\n            parsed = row['parsed_type'] or 'UNPARSED'\n            \n            # Decode what this size means based on our understanding\n            if size == 52:\n                analysis = \"Standard ADC (4+4+44 bytes)\"\n            elif size == 68:\n                analysis = \"Extended ADC v1 (52+16 PD bytes)\" \n            elif size == 84:\n                analysis = \"Extended ADC v2 (52+32 PD bytes)\"\n            else:\n                analysis = f\"Unknown variant ({size} bytes)\"\n                \n            print(f\"  {size:2d} bytes: {count:3d} packets [{parsed:15s}] → {analysis}\")\n\ndef analyze_extended_adc_structure(pd_file):\n    \"\"\"Analyze the structure of extended ADC packets in detail.\"\"\"\n    print(f\"\\n🔬 EXTENDED ADC STRUCTURE ANALYSIS: {pd_file}\")\n    print(\"-\" * 60)\n    \n    pd_df = df.filter(pl.col('source_file') == pd_file)\n    transactions = helpers.get_transactions(pd_df, filter_out_enumeration=True)\n    \n    # Get extended ADC packets (68+ bytes)\n    extended_adc = transactions.filter(\n        (pl.col('payload_hex').str.starts_with('41')) &\n        (pl.col('payload_length') >= 68)\n    ).head(3)\n    \n    for row in extended_adc.iter_rows(named=True):\n        payload = row['payload_hex']\n        size = row['payload_length']\n        payload_bytes = bytes.fromhex(payload)\n        \n        print(f\"\\nExtended ADC packet ({size} bytes):\")\n        print(f\"  Time: {row['start_time']:.3f}s\")\n        \n        # Main header (bytes 0-3)\n        main_header = payload_bytes[:4]\n        main_int = int.from_bytes(main_header, 'little')\n        \n        obj_value = (main_int >> 16) & 0x3FF\n        extend_bit = (main_int >> 7) & 0x1\n        \n        print(f\"  Main header: {' '.join(f'{b:02x}' for b in main_header)}\")\n        print(f\"    obj=0x{obj_value:03x} ({obj_value}), extend={extend_bit}\")\n        \n        # Extended header (bytes 4-7) \n        ext_header = payload_bytes[4:8]\n        ext_int = int.from_bytes(ext_header, 'little')\n        \n        att = ext_int & 0x7FFF\n        next_bit = (ext_int >> 15) & 0x1\n        size_field = (ext_int >> 22) & 0x3FF\n        \n        print(f\"  Ext header: {' '.join(f'{b:02x}' for b in ext_header)}\")\n        print(f\"    att={att} (ATT_ADC), next={next_bit}, size={size_field}\")\n        \n        # ADC data (bytes 8-55, should be 48 bytes)\n        adc_data = payload_bytes[8:56]\n        print(f\"  ADC data: {len(adc_data)} bytes\")\n        \n        # Try to parse first 52 bytes (main+ext header + standard ADC)\n        try:\n            standard_packet = payload_bytes[:52]\n            parsed = parse_packet(standard_packet)\n            if parsed.adc_data:\n                adc = parsed.adc_data\n                print(f\"    ✅ Standard ADC: V={adc.vbus_v:.3f}V I={adc.ibus_a:.3f}A T={adc.temp_c:.1f}°C\")\n        except Exception as e:\n            print(f\"    ❌ Parse error: {e}\")\n            \n        # Extension data\n        if size > 56:\n            extension = payload_bytes[56:]\n            print(f\"  PD extension: {len(extension)} bytes\")\n            ext_hex = ' '.join(f'{b:02x}' for b in extension[:16])\n            if len(extension) > 16:\n                ext_hex += \"...\"\n            print(f\"    Data: {ext_hex}\")\n\n# Analyze extended ADC structure for both files\nfor pd_file in pd_files:\n    analyze_extended_adc_structure(pd_file)"
  },
  {
   "cell_type": "code",
   "execution_count": 4,
   "metadata": {},
   "outputs": [
    {
     "name": "stdout",
     "output_type": "stream",
     "text": [
      "\n",
      "============================================================\n",
      "FILE: orig_with_pd.13\n",
      "============================================================\n",
      "Packets in orig_with_pd.13: 2056\n",
      "Time range: 0.000s - 42.093s\n",
      "Duration: 42.093s\n",
      "\n",
      "Packet types in orig_with_pd.13:\n",
      "shape: (3, 4)\n",
      "┌───────────────┬───────────┬───────┬────────────┐\n",
      "│ transfer_type ┆ direction ┆ count ┆ avg_length │\n",
      "│ ---           ┆ ---       ┆ ---   ┆ ---        │\n",
      "│ str           ┆ str       ┆ u32   ┆ f64        │\n",
      "╞═══════════════╪═══════════╪═══════╪════════════╡\n",
      "│ 0x03          ┆ D->H      ┆ 1022  ┆ 15.225049  │\n",
      "│ 0x03          ┆ H->D      ┆ 1008  ┆ 2.15873    │\n",
      "│ 0x02          ┆ D->H      ┆ 26    ┆ 13.038462  │\n",
      "└───────────────┴───────────┴───────┴────────────┘\n",
      "\n",
      "============================================================\n",
      "FILE: pd_capture_new.9\n",
      "============================================================\n",
      "Packets in pd_capture_new.9: 6930\n",
      "Time range: 0.000s - 295.600s\n",
      "Duration: 295.600s\n",
      "\n",
      "Packet types in pd_capture_new.9:\n",
      "shape: (3, 4)\n",
      "┌───────────────┬───────────┬───────┬────────────┐\n",
      "│ transfer_type ┆ direction ┆ count ┆ avg_length │\n",
      "│ ---           ┆ ---       ┆ ---   ┆ ---        │\n",
      "│ str           ┆ str       ┆ u32   ┆ f64        │\n",
      "╞═══════════════╪═══════════╪═══════╪════════════╡\n",
      "│ 0x03          ┆ H->D      ┆ 3462  ┆ 2.0        │\n",
      "│ 0x03          ┆ D->H      ┆ 3462  ┆ 23.247834  │\n",
      "│ 0x02          ┆ D->H      ┆ 6     ┆ 26.166667  │\n",
      "└───────────────┴───────────┴───────┴────────────┘\n"
     ]
    }
   ],
   "source": [
    "# Step 1: Examine the two PD files\n",
    "\n",
    "pd_files = ['orig_with_pd.13', 'pd_capture_new.9']\n",
    "\n",
    "for pd_file in pd_files:\n",
    "    print(f\"\\n{'='*60}\")\n",
    "    print(f\"FILE: {pd_file}\")\n",
    "    print('='*60)\n",
    "    \n",
    "    # Filter for this PD file\n",
    "    pd_df = df.filter(pl.col('source_file') == pd_file)\n",
    "    \n",
    "    print(f\"Packets in {pd_file}: {len(pd_df)}\")\n",
    "    print(f\"Time range: {pd_df['timestamp'].min():.3f}s - {pd_df['timestamp'].max():.3f}s\")\n",
    "    print(f\"Duration: {pd_df['timestamp'].max() - pd_df['timestamp'].min():.3f}s\")\n",
    "    \n",
    "    # Show packet overview\n",
    "    packet_overview = pd_df.group_by(['transfer_type', 'direction']).agg([\n",
    "        pl.len().alias('count'),\n",
    "        pl.col('data_length').mean().alias('avg_length')\n",
    "    ]).sort('count', descending=True)\n",
    "    \n",
    "    print(f\"\\nPacket types in {pd_file}:\")\n",
    "    print(packet_overview)"
   ]
  },
  {
   "cell_type": "markdown",
   "metadata": {},
   "source": [
    "## PD Protocol Investigation Notes\n",
    "\n",
    "Use this section to document findings about the KM003C PD protocol functionality:\n",
    "\n",
    "### Key Observations\n",
    "- [ ] PD packet identification patterns\n",
    "- [ ] Command/response structures  \n",
    "- [ ] Timing characteristics\n",
    "- [ ] Error handling patterns\n",
    "\n",
    "### Protocol Structure\n",
    "- [ ] PD message types discovered\n",
    "- [ ] Payload format analysis\n",
    "- [ ] Transaction flow patterns\n",
    "\n",
    "### Next Steps\n",
    "- [ ] Implement PD-specific packet parsing\n",
    "- [ ] Add PD message decoding\n",
    "- [ ] Create PD visualization tools"
   ]
  }
 ],
 "metadata": {
  "kernelspec": {
   "display_name": ".venv",
   "language": "python",
   "name": "python3"
  },
  "language_info": {
   "codemirror_mode": {
    "name": "ipython",
    "version": 3
   },
   "file_extension": ".py",
   "mimetype": "text/x-python",
   "name": "python",
   "nbconvert_exporter": "python",
   "pygments_lexer": "ipython3",
   "version": "3.11.13"
  }
 },
 "nbformat": 4,
 "nbformat_minor": 4
}