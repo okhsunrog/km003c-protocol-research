{
  "cells": [
    {
      "cell_type": "markdown",
      "metadata": {},
      "source": [
        "# USB Protocol Analysis\n",
        "\n",
        "This notebook analyzes the comprehensive USB dataset created by the Rust pcap converter.\n",
        "The dataset contains complete USB communication data across multiple devices and sessions.\n"
      ]
    },
    {
      "cell_type": "code",
      "execution_count": 1,
      "metadata": {},
      "outputs": [
        {
          "name": "stdout",
          "output_type": "stream",
          "text": [
            "📊 USB Protocol Analysis Environment Ready!\n"
          ]
        }
      ],
      "source": [
        "# Import required libraries\n",
        "import sys\n",
        "sys.path.append('../scripts')\n",
        "\n",
        "import polars as pl\n",
        "import matplotlib.pyplot as plt\n",
        "import seaborn as sns\n",
        "import numpy as np\n",
        "from helpers import (\n",
        "    load_master_dataset, get_session_stats, get_device_summary,\n",
        "    print_session_summary, print_device_summary, analyze_control_packets,\n",
        "    analyze_urb_transactions, get_payload_patterns, filter_by_device\n",
        ")\n",
        "\n",
        "# Set up plotting\n",
        "plt.style.use('default')\n",
        "sns.set_palette(\"husl\")\n",
        "plt.rcParams['figure.figsize'] = (12, 8)\n",
        "\n",
        "print(\"📊 USB Protocol Analysis Environment Ready!\")\n"
      ]
    },
    {
      "cell_type": "code",
      "execution_count": 2,
      "metadata": {},
      "outputs": [
        {
          "name": "stdout",
          "output_type": "stream",
          "text": [
            "✅ Loaded 11,514 USB packets from ../../usb_master_dataset.parquet\n",
            "\n",
            "📈 Dataset Overview:\n",
            "Total packets: 11,514\n",
            "Total fields: 41\n",
            "Devices: [6, 9, 13, 16]\n",
            "Sessions: 7\n",
            "Time span: 0.0s to 295.6s\n"
          ]
        }
      ],
      "source": [
        "# Load the master USB dataset\n",
        "df = load_master_dataset('../../usb_master_dataset.parquet')\n",
        "\n",
        "print(f\"\\n📈 Dataset Overview:\")\n",
        "print(f\"Total packets: {len(df):,}\")\n",
        "print(f\"Total fields: {len(df.columns)}\")\n",
        "print(f\"Devices: {sorted(df['device_address'].unique().to_list())}\")\n",
        "print(f\"Sessions: {len(df['session_id'].unique())}\")\n",
        "print(f\"Time span: {df['timestamp'].min():.1f}s to {df['timestamp'].max():.1f}s\")\n"
      ]
    },
    {
      "cell_type": "code",
      "execution_count": 3,
      "metadata": {},
      "outputs": [
        {
          "name": "stdout",
          "output_type": "stream",
          "text": [
            "📊 CAPTURE SESSION SUMMARY\n",
            "================================================================================\n",
            "📁 orig_adc_1000hz.6\n",
            "   🔌 Device: 6\n",
            "   📦 Packets: 1,240 total (605 with payload, 48.8%)\n",
            "   ⏱️  Duration: 17.9s\n",
            "   📏 Payload: avg 155.2b, max 968b\n",
            "   🔗 Endpoints: 3, URB IDs: 104\n",
            "\n",
            "📁 orig_adc_50hz.6\n",
            "   🔌 Device: 6\n",
            "   📦 Packets: 570 total (270 with payload, 47.4%)\n",
            "   ⏱️  Duration: 16.1s\n",
            "   📏 Payload: avg 21.2b, max 188b\n",
            "   🔗 Endpoints: 3, URB IDs: 104\n",
            "\n",
            "📁 orig_adc_record.6\n",
            "   🔌 Device: 6\n",
            "   📦 Packets: 420 total (195 with payload, 46.4%)\n",
            "   ⏱️  Duration: 18.3s\n",
            "   📏 Payload: avg 13.7b, max 188b\n",
            "   🔗 Endpoints: 3, URB IDs: 62\n",
            "\n",
            "📁 pd_capture_new.9\n",
            "   🔌 Device: 9\n",
            "   📦 Packets: 6,930 total (3462 with payload, 50.0%)\n",
            "   ⏱️  Duration: 295.6s\n",
            "   📏 Payload: avg 12.6b, max 130b\n",
            "   🔗 Endpoints: 3, URB IDs: 442\n",
            "\n",
            "📁 orig_with_pd.13\n",
            "   🔌 Device: 13\n",
            "   📦 Packets: 2,056 total (1013 with payload, 49.3%)\n",
            "   ⏱️  Duration: 42.1s\n",
            "   📏 Payload: avg 8.8b, max 188b\n",
            "   🔗 Endpoints: 3, URB IDs: 104\n",
            "\n",
            "📁 orig_open_close.16\n",
            "   🔌 Device: 16\n",
            "   📦 Packets: 152 total (61 with payload, 40.1%)\n",
            "   ⏱️  Duration: 9.8s\n",
            "   📏 Payload: avg 14.0b, max 188b\n",
            "   🔗 Endpoints: 3, URB IDs: 42\n",
            "\n",
            "📁 rust_simple_logger.16\n",
            "   🔌 Device: 16\n",
            "   📦 Packets: 146 total (42 with payload, 28.8%)\n",
            "   ⏱️  Duration: 7.0s\n",
            "   📏 Payload: avg 11.5b, max 188b\n",
            "   🔗 Endpoints: 4, URB IDs: 15\n",
            "\n"
          ]
        }
      ],
      "source": [
        "# Get detailed session statistics\n",
        "session_stats = get_session_stats(df)\n",
        "print_session_summary(session_stats)\n"
      ]
    },
    {
      "cell_type": "code",
      "execution_count": 4,
      "metadata": {},
      "outputs": [
        {
          "name": "stdout",
          "output_type": "stream",
          "text": [
            "🔌 DEVICE SUMMARY\n",
            "==================================================\n",
            "Device 6:\n",
            "  📊 2,230 packets across 3 sessions\n",
            "  💾 1070 packets with payload data\n",
            "  📏 Average payload: 94.3 bytes\n",
            "  ⏱️  Time span: 18.3s\n",
            "\n",
            "Device 9:\n",
            "  📊 6,930 packets across 1 sessions\n",
            "  💾 3462 packets with payload data\n",
            "  📏 Average payload: 12.6 bytes\n",
            "  ⏱️  Time span: 295.6s\n",
            "\n",
            "Device 13:\n",
            "  📊 2,056 packets across 1 sessions\n",
            "  💾 1013 packets with payload data\n",
            "  📏 Average payload: 8.8 bytes\n",
            "  ⏱️  Time span: 42.1s\n",
            "\n",
            "Device 16:\n",
            "  📊 298 packets across 2 sessions\n",
            "  💾 103 packets with payload data\n",
            "  📏 Average payload: 12.8 bytes\n",
            "  ⏱️  Time span: 9.8s\n",
            "\n"
          ]
        }
      ],
      "source": [
        "# Get device summary\n",
        "device_summary = get_device_summary(df)\n",
        "print_device_summary(device_summary)\n"
      ]
    }
  ],
  "metadata": {
    "kernelspec": {
      "display_name": "KM003C Research",
      "language": "python",
      "name": "km003c-protocol-research"
    },
    "language_info": {
      "codemirror_mode": {
        "name": "ipython",
        "version": 3
      },
      "file_extension": ".py",
      "mimetype": "text/x-python",
      "name": "python",
      "nbconvert_exporter": "python",
      "pygments_lexer": "ipython3",
      "version": "3.11.13"
    }
  },
  "nbformat": 4,
  "nbformat_minor": 2
}
