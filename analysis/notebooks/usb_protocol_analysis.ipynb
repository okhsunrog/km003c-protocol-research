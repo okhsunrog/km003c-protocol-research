{
  "cells": [
    {
      "cell_type": "code",
      "execution_count": 23,
      "metadata": {},
      "outputs": [
        {
          "name": "stdout",
          "output_type": "stream",
          "text": [
            "✅ Loaded 11,514 USB packets from ../../usb_master_dataset.parquet\n",
            "Source file: orig_adc_record.6\n",
            "Dataset: 420 packets\n",
            "Bulk transfers: 394 packets (93.8%)\n",
            "Control packets filtered: 26\n",
            "\n",
            "Column names (40):\n",
            "['session_id', 'frame_number', 'timestamp', 'timestamp_absolute', 'direction', 'device_address', 'bus_id', 'endpoint_address', 'endpoint_number', 'transfer_type', 'urb_type', 'urb_status', 'data_length', 'urb_length', 'payload_hex', 'setup_flag', 'data_flag', 'interval', 'start_frame', 'frame_length', 'frame_protocols', 'source_file', 'bmrequest_type', 'brequest', 'brequest_name', 'wvalue', 'windex', 'wlength', 'descriptor_type', 'descriptor_index', 'language_id', 'transfer_flags', 'copy_of_transfer_flags', 'urb_id', 'usb_src', 'usb_dst', 'usb_addr', 'urb_ts_sec', 'urb_ts_usec', 'added_datetime']\n"
          ]
        }
      ],
      "source": [
        "import sys\n",
        "sys.path.append('../scripts')\n",
        "import polars as pl\n",
        "from helpers import load_master_dataset\n",
        "\n",
        "# Load master dataset and filter by source file\n",
        "source_file = \"orig_adc_record.6\"\n",
        "df = load_master_dataset('../../usb_master_dataset.parquet')\n",
        "df = df.filter(pl.col('source_file') == source_file)\n",
        "bulk_df = df.filter(pl.col('transfer_type') != '0x02')\n",
        "\n",
        "print(f\"Source file: {source_file}\")\n",
        "print(f\"Dataset: {len(df):,} packets\")\n",
        "print(f\"Bulk transfers: {len(bulk_df):,} packets ({len(bulk_df)/len(df)*100:.1f}%)\")\n",
        "print(f\"Control packets filtered: {len(df)-len(bulk_df)}\")\n",
        "print(f\"\\nColumn names ({len(df.columns)}):\")\n",
        "print(df.columns)"
      ]
    },
    {
      "cell_type": "code",
      "execution_count": 24,
      "metadata": {},
      "outputs": [
        {
          "name": "stdout",
          "output_type": "stream",
          "text": [
            "First row with 52-byte payload (key columns):\n",
            "shape: (1, 6)\n",
            "┌───────────┬────────────────┬───────────┬──────────────────┬─────────────┬────────────────────────┐\n",
            "│ timestamp ┆ device_address ┆ direction ┆ endpoint_address ┆ data_length ┆ payload_hex            │\n",
            "│ ---       ┆ ---            ┆ ---       ┆ ---              ┆ ---         ┆ ---                    │\n",
            "│ f64       ┆ u32            ┆ str       ┆ str              ┆ u32         ┆ str                    │\n",
            "╞═══════════╪════════════════╪═══════════╪══════════════════╪═════════════╪════════════════════════╡\n",
            "│ 2.760307  ┆ 6              ┆ D->H      ┆ 0x81             ┆ 52          ┆ 410a82020100000b2d8e4d │\n",
            "│           ┆                ┆           ┆                  ┆             ┆ 00e6ffff…              │\n",
            "└───────────┴────────────────┴───────────┴──────────────────┴─────────────┴────────────────────────┘\n",
            "\n",
            "Payload hex: 410a82020100000b2d8e4d00e6ffffff218e4d00eaffffff278e4d00480000001b0c9402747e000000007c7e0080a00c00000000\n",
            "\n",
            "All columns (transposed view):\n",
            "session_id          : orig_adc_record.6\n",
            "frame_number        : 352\n",
            "timestamp           : 2.760307\n",
            "timestamp_absolute  : Jun 20, 2025 13:02:42.527624000 MSK\n",
            "direction           : D->H\n",
            "device_address      : 6\n",
            "bus_id              : 3\n",
            "endpoint_address    : 0x81\n",
            "endpoint_number     : 1\n",
            "transfer_type       : 0x03\n",
            "urb_type            : C\n",
            "urb_status          : 0\n",
            "data_length         : 52\n",
            "urb_length          : 52\n",
            "payload_hex         : 410a82020100000b2d8e4d00e6ffffff218e4d00eaffffff278e4d00480000001b0c9402747e000000007c7e0080a00c00000000\n",
            "setup_flag          : -\n",
            "data_flag           : \\0\n",
            "interval            : 0\n",
            "start_frame         : 0\n",
            "frame_length        : 116\n",
            "frame_protocols     : usb\n",
            "source_file         : orig_adc_record.6\n",
            "bmrequest_type      : None\n",
            "brequest            : None\n",
            "brequest_name       : None\n",
            "wvalue              : None\n",
            "windex              : None\n",
            "wlength             : None\n",
            "descriptor_type     : None\n",
            "descriptor_index    : None\n",
            "language_id         : None\n",
            "transfer_flags      : None\n",
            "copy_of_transfer_flags: 0x00000200\n",
            "urb_id              : 0xffff8d7f78480840\n",
            "usb_src             : 3.6.1\n",
            "usb_dst             : host\n",
            "usb_addr            : 3.6.1\n",
            "urb_ts_sec          : 1750413762\n",
            "urb_ts_usec         : 527624\n",
            "added_datetime      : 2025-09-04T21:00:11.918497542+00:00\n"
          ]
        }
      ],
      "source": [
        "# Find first row with payload of 52 bytes\n",
        "payload_52b = df.filter((pl.col('data_length') == 52) & (pl.col('payload_hex') != ''))\n",
        "\n",
        "# Show key columns only\n",
        "key_columns = ['timestamp', 'device_address', 'direction', 'endpoint_address', 'data_length', 'payload_hex']\n",
        "print(\"First row with 52-byte payload (key columns):\")\n",
        "print(payload_52b.select(key_columns)[0])\n",
        "\n",
        "# Show the payload hex data\n",
        "print(f\"\\nPayload hex: {payload_52b[0, 'payload_hex']}\")\n",
        "\n",
        "# Show all columns transposed (column-by-column)\n",
        "print(f\"\\nAll columns (transposed view):\")\n",
        "first_row = payload_52b[0]\n",
        "for col_name in df.columns:\n",
        "    value = first_row[col_name][0]  # Get the single value\n",
        "    print(f\"{col_name:20s}: {value}\")\n"
      ]
    },
    {
      "cell_type": "code",
      "execution_count": 12,
      "metadata": {},
      "outputs": [
        {
          "name": "stdout",
          "output_type": "stream",
          "text": [
            "Transfer Types:\n",
            "shape: (1, 2)\n",
            "┌───────────────┬───────┐\n",
            "│ transfer_type ┆ count │\n",
            "│ ---           ┆ ---   │\n",
            "│ str           ┆ u32   │\n",
            "╞═══════════════╪═══════╡\n",
            "│ 0x03          ┆ 394   │\n",
            "└───────────────┴───────┘\n",
            "\n",
            "Devices:\n",
            "shape: (1, 2)\n",
            "┌────────────────┬───────┐\n",
            "│ device_address ┆ count │\n",
            "│ ---            ┆ ---   │\n",
            "│ u32            ┆ u32   │\n",
            "╞════════════════╪═══════╡\n",
            "│ 6              ┆ 394   │\n",
            "└────────────────┴───────┘\n",
            "\n",
            "Endpoints:\n",
            "shape: (2, 2)\n",
            "┌──────────────────┬───────┐\n",
            "│ endpoint_address ┆ count │\n",
            "│ ---              ┆ ---   │\n",
            "│ str              ┆ u32   │\n",
            "╞══════════════════╪═══════╡\n",
            "│ 0x01             ┆ 190   │\n",
            "│ 0x81             ┆ 204   │\n",
            "└──────────────────┴───────┘\n",
            "\n",
            "Directions:\n",
            "shape: (2, 2)\n",
            "┌───────────┬───────┐\n",
            "│ direction ┆ count │\n",
            "│ ---       ┆ ---   │\n",
            "│ str       ┆ u32   │\n",
            "╞═══════════╪═══════╡\n",
            "│ D->H      ┆ 204   │\n",
            "│ H->D      ┆ 190   │\n",
            "└───────────┴───────┘\n"
          ]
        }
      ],
      "source": [
        "# Basic bulk transfer statistics\n",
        "print(\"Transfer Types:\")\n",
        "print(bulk_df['transfer_type'].value_counts())\n",
        "print(\"\\nDevices:\")\n",
        "print(bulk_df['device_address'].value_counts())\n",
        "print(\"\\nEndpoints:\")\n",
        "print(bulk_df['endpoint_address'].value_counts())\n",
        "print(\"\\nDirections:\")\n",
        "print(bulk_df['direction'].value_counts())\n"
      ]
    },
    {
      "cell_type": "code",
      "execution_count": 13,
      "metadata": {},
      "outputs": [
        {
          "name": "stdout",
          "output_type": "stream",
          "text": [
            "Payload Statistics:\n",
            "shape: (1, 5)\n",
            "┌──────────────────┬──────────────────┬──────────────────┬────────────────────┬────────────────────┐\n",
            "│ avg_payload_size ┆ max_payload_size ┆ min_payload_size ┆ packets_with_paylo ┆ total_bulk_packets │\n",
            "│ ---              ┆ ---              ┆ ---              ┆ ad                 ┆ ---                │\n",
            "│ f64              ┆ u32              ┆ u32              ┆ ---                ┆ u32                │\n",
            "│                  ┆                  ┆                  ┆ u32                ┆                    │\n",
            "╞══════════════════╪══════════════════╪══════════════════╪════════════════════╪════════════════════╡\n",
            "│ 13.736041        ┆ 188              ┆ 0                ┆ 195                ┆ 394                │\n",
            "└──────────────────┴──────────────────┴──────────────────┴────────────────────┴────────────────────┘\n"
          ]
        }
      ],
      "source": [
        "# Payload analysis\n",
        "payload_stats = bulk_df.select([\n",
        "    pl.col('data_length').mean().alias('avg_payload_size'),\n",
        "    pl.col('data_length').max().alias('max_payload_size'),\n",
        "    pl.col('data_length').min().alias('min_payload_size'),\n",
        "    (pl.col('payload_hex') != '').sum().alias('packets_with_payload'),\n",
        "    pl.len().alias('total_bulk_packets')\n",
        "])\n",
        "print(\"Payload Statistics:\")\n",
        "print(payload_stats)\n"
      ]
    },
    {
      "cell_type": "code",
      "execution_count": 14,
      "metadata": {},
      "outputs": [
        {
          "name": "stdout",
          "output_type": "stream",
          "text": [
            "Device Breakdown:\n",
            "shape: (1, 4)\n",
            "┌────────────────┬──────────────┬─────────────┬──────────────┐\n",
            "│ device_address ┆ packet_count ┆ avg_payload ┆ with_payload │\n",
            "│ ---            ┆ ---          ┆ ---         ┆ ---          │\n",
            "│ u32            ┆ u32          ┆ f64         ┆ u32          │\n",
            "╞════════════════╪══════════════╪═════════════╪══════════════╡\n",
            "│ 6              ┆ 394          ┆ 13.736041   ┆ 195          │\n",
            "└────────────────┴──────────────┴─────────────┴──────────────┘\n"
          ]
        }
      ],
      "source": [
        "# Device breakdown\n",
        "device_stats = bulk_df.group_by('device_address').agg([\n",
        "    pl.len().alias('packet_count'),\n",
        "    pl.col('data_length').mean().alias('avg_payload'),\n",
        "    (pl.col('payload_hex') != '').sum().alias('with_payload')\n",
        "])\n",
        "print(\"Device Breakdown:\")\n",
        "print(device_stats)\n"
      ]
    },
    {
      "cell_type": "code",
      "execution_count": 15,
      "metadata": {},
      "outputs": [
        {
          "name": "stdout",
          "output_type": "stream",
          "text": [
            "Payload Size Patterns:\n",
            "\n",
            "Device 6:\n",
            "  4b: 96 packets\n",
            "  52b: 74 packets\n"
          ]
        }
      ],
      "source": [
        "# Payload size patterns by device\n",
        "size_patterns = bulk_df.filter(pl.col('payload_hex') != '').group_by(['device_address', 'data_length']).agg([\n",
        "    pl.len().alias('count')\n",
        "])\n",
        "\n",
        "print(\"Payload Size Patterns:\")\n",
        "current_device = None\n",
        "for row in size_patterns.sort(['device_address', 'count'], descending=[False, True]).iter_rows(named=True):\n",
        "    if row['device_address'] != current_device:\n",
        "        current_device = row['device_address']\n",
        "        print(f\"\\nDevice {current_device}:\")\n",
        "    if row['count'] > 10:\n",
        "        print(f\"  {row['data_length']}b: {row['count']} packets\")\n"
      ]
    }
  ],
  "metadata": {
    "kernelspec": {
      "display_name": "KM003C Research",
      "language": "python",
      "name": "km003c-protocol-research"
    },
    "language_info": {
      "codemirror_mode": {
        "name": "ipython",
        "version": 3
      },
      "file_extension": ".py",
      "mimetype": "text/x-python",
      "name": "python",
      "nbconvert_exporter": "python",
      "pygments_lexer": "ipython3",
      "version": "3.11.13"
    }
  },
  "nbformat": 4,
  "nbformat_minor": 2
}
