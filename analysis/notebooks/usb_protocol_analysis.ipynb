{
  "cells": [
    {
      "cell_type": "markdown",
      "metadata": {},
      "source": [
        "# USB Protocol Analysis\n",
        "\n",
        "This notebook analyzes the comprehensive USB dataset created by the Rust pcap converter.\n",
        "The dataset contains complete USB communication data across multiple devices and sessions.\n"
      ]
    },
    {
      "cell_type": "code",
      "execution_count": null,
      "metadata": {},
      "outputs": [],
      "source": [
        "# Import required libraries\n",
        "import sys\n",
        "sys.path.append('../scripts')\n",
        "\n",
        "import polars as pl\n",
        "import matplotlib.pyplot as plt\n",
        "import seaborn as sns\n",
        "import numpy as np\n",
        "from helpers import (\n",
        "    load_master_dataset, get_session_stats, get_device_summary,\n",
        "    print_session_summary, print_device_summary, analyze_control_packets,\n",
        "    analyze_urb_transactions, get_payload_patterns, filter_by_device,\n",
        "    hex_to_ascii\n",
        ")\n",
        "from protocol_parser import apply_parser_to_df\n",
        "\n",
        "\n",
        "# Set up plotting\n",
        "plt.style.use('default')\n",
        "sns.set_palette(\"husl\")\n",
        "plt.rcParams['figure.figsize'] = (12, 8)\n",
        "\n",
        "print(\"📊 USB Protocol Analysis Environment Ready!\")\n"
      ]
    },
    {
      "cell_type": "code",
      "execution_count": null,
      "metadata": {},
      "outputs": [],
      "source": [
        "# Load the master USB dataset\n",
        "df = load_master_dataset('../../usb_master_dataset.parquet')\n",
        "\n",
        "print(f\"\\n📈 Dataset Overview:\")\n",
        "print(f\"Total packets: {len(df):,}\")\n",
        "print(f\"Total fields: {len(df.columns)}\")\n",
        "print(f\"Devices: {sorted(df['device_address'].unique().to_list())}\")\n",
        "print(f\"Sessions: {len(df['session_id'].unique())}\")\n",
        "print(f\"Time span: {df['timestamp'].min():.1f}s to {df['timestamp'].max():.1f}s\")\n"
      ]
    },
    {
      "cell_type": "markdown",
      "metadata": {},
      "source": [
        "## Packet Classification on `orig_adc_1000hz.6`\n",
        "\n",
        "We will now use our robust, Rust-inspired parser to classify every packet in the `orig_adc_1000hz.6` session, which we have confirmed contains valid ADC data. This approach correctly separates packet identification from data parsing."
      ]
    },
    {
      "cell_type": "code",
      "execution_count": null,
      "metadata": {},
      "outputs": [],
      "source": [
        "# Filter for the correct session and apply the new parser\n",
        "session_id = 'orig_adc_1000hz.6'\n",
        "df_session = df.filter(pl.col('session_id') == session_id)\n",
        "df_parsed = apply_parser_to_df(df_session)\n",
        "\n",
        "# Show the distribution of packet types found\n",
        "print(\"Found the following packet types:\")\n",
        "df_parsed['packet_type'].value_counts()"
      ]
    },
    {
      "cell_type": "markdown",
      "metadata": {},
      "source": [
        "### Filtering for ADC Data\n",
        "\n",
        "Now that the packets are classified, we can confidently filter for `ADC_DATA` packets to analyze the measurements.\n"
      ]
    },
    {
      "cell_type": "code",
      "execution_count": null,
      "metadata": {},
      "outputs": [],
      "source": [
        "# Filter for ADC_DATA packets and show the head\n",
        "df_adc_data = df_parsed.filter(pl.col('packet_type') == 'ADC_DATA')\n",
        "\n",
        "print(f\"Found {len(df_adc_data)} valid ADC data packets.\")\n",
        "\n",
        "df_adc_data.select([\n",
        "    \"timestamp\",\n",
        "    \"vbus_v\",\n",
        "    \"ibus_a\",\n",
        "    \"power_w\",\n",
        "    \"temp_c\"\n",
        "]).head()\n"
      ]
    },
    {
      "cell_type": "markdown",
      "metadata": {},
      "source": [
        "### Plotting ADC Data\n",
        "\n",
        "With the data correctly parsed and filtered, we can now create a meaningful visualization."
      ]
    },
    {
      "cell_type": "code",
      "execution_count": null,
      "metadata": {},
      "outputs": [],
      "source": [
        "# Get only packets with payloads and parse them\n",
        "df_payload = df_adc.filter(pl.col(\"payload_hex\") != \"\")\n",
        "parsed_adc_data = parse_payloads_to_adc(df_payload)\n",
        "\n",
        "# Show the parsed data for the first few packets\n",
        "parsed_adc_data.select([\n",
        "    \"timestamp\",\n",
        "    \"vbus_uv\",\n",
        "    \"ibus_ua\",\n",
        "    \"temp_raw\"\n",
        "]).head()\n"
      ]
    },
    {
      "cell_type": "code",
      "execution_count": null,
      "metadata": {},
      "outputs": [],
      "source": [
        "# Get only packets with payloads\n",
        "df_payload = df_adc.filter(pl.col(\"payload_hex\") != \"\")\n",
        "\n",
        "# Parse ADC data from payloads\n",
        "parsed_adc_data = df_payload.with_columns([\n",
        "    pl.col(\"payload_hex\").map_elements(parse_adc_data, return_dtype=pl.Object).alias(\"parsed_adc\")\n",
        "]).unnest(\"parsed_adc\")\n",
        "\n",
        "# Show the parsed data for the first few packets\n",
        "parsed_adc_data.select([\n",
        "    \"timestamp\",\n",
        "    \"vbus_uv\",\n",
        "    \"ibus_ua\",\n",
        "    \"temp_raw\"\n",
        "]).head()\n"
      ]
    },
    {
      "cell_type": "markdown",
      "metadata": {},
      "source": [
        "### URB Transaction Analysis\n",
        "\n",
        "We can analyze the URB transactions to find request/response pairs.\n"
      ]
    },
    {
      "cell_type": "code",
      "execution_count": null,
      "metadata": {},
      "outputs": [],
      "source": [
        "analyze_urb_transactions(df_adc)\n"
      ]
    }
  ],
  "metadata": {
    "kernelspec": {
      "display_name": "KM003C Research",
      "language": "python",
      "name": "km003c-protocol-research"
    },
    "language_info": {
      "codemirror_mode": {
        "name": "ipython",
        "version": 3
      },
      "file_extension": ".py",
      "mimetype": "text/x-python",
      "name": "python",
      "nbconvert_exporter": "python",
      "pygments_lexer": "ipython3",
      "version": "3.11.13"
    }
  },
  "nbformat": 4,
  "nbformat_minor": 2
}
