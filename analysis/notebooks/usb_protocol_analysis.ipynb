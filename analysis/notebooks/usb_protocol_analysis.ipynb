{
  "cells": [
    {
      "cell_type": "code",
      "execution_count": 1,
      "metadata": {},
      "outputs": [
        {
          "name": "stdout",
          "output_type": "stream",
          "text": [
            "✅ Loaded 11,514 USB packets from ../../usb_master_dataset.parquet\n",
            "Analyzing session: 'orig_adc_record.6' (420 packets)\n"
          ]
        }
      ],
      "source": [
        "import sys\n",
        "sys.path.append('../scripts')\n",
        "import polars as pl\n",
        "from helpers import load_master_dataset, get_transactions, print_transaction_log\n",
        "\n",
        "# Load master dataset and filter for our session of interest\n",
        "source_file = \"orig_adc_record.6\"\n",
        "df = load_master_dataset('../../usb_master_dataset.parquet')\n",
        "session_df = df.filter(pl.col('source_file') == source_file)\n",
        "\n",
        "print(f\"Analyzing session: '{source_file}' ({len(session_df)} packets)\")\n"
      ]
    },
    {
      "cell_type": "code",
      "execution_count": 2,
      "metadata": {},
      "outputs": [
        {
          "name": "stdout",
          "output_type": "stream",
          "text": [
            "Found 210 logical transactions. Displaying first 40:\n",
            "--------------------------------------------------------------------------------------------------------------\n",
            "#   Timestamp (s) Duration (ms) | Type            | Submit Details                 | Complete Details\n",
            "--------------------------------------------------------------------------------------------------------------\n",
            "1   0.000000             0.213 | Control Setup   | D->H   0b -             ...    | D->H  18b -             ...\n",
            "2   0.000220             0.163 | Control Setup   | D->H   0b -             ...    | D->H   9b -             ...\n",
            "3   0.000386             0.419 | Control Setup   | D->H   0b -             ...    | D->H 130b -             ...\n",
            "4   2.154407             0.196 | Control Setup   | D->H   0b -             ...    | D->H  22b -             ...\n",
            "5   2.155386             0.189 | Control Setup   | D->H   0b -             ...    | D->H  30b -             ...\n",
            "6   2.158666             0.188 | Control Setup   | D->H   0b -             ...    | D->H  14b -             ...\n",
            "7   2.159297             0.074 | Device Data     | D->H   0b -             ...    | D->H   4b - 03020000    ...\n",
            "8   2.159591            74.941 | Control/ACK     | D->H   0b -             ...    | D->H   0b -             ...\n",
            "9   2.191402             0.208 | Control Setup   | D->H   0b -             ...    | D->H   4b -             ...\n",
            "10  2.195015             0.189 | Control Setup   | D->H   0b -             ...    | D->H  30b -             ...\n",
            "11  2.199049             0.228 | Control Setup   | D->H   0b -             ...    | D->H   4b -             ...\n",
            "12  2.200161             0.165 | Control Setup   | D->H   0b -             ...    | D->H  12b -             ...\n",
            "13  2.269055             0.176 | Control Setup   | D->H   0b -             ...    | D->H  22b -             ...\n",
            "14  2.269645             0.242 | Control Setup   | D->H   0b -             ...    | D->H  30b -             ...\n",
            "15  2.270049             0.174 | Control Setup   | D->H   0b -             ...    | D->H  14b -             ...\n",
            "16  2.270627            42.755 | Device Data     | D->H   0b -             ...    | D->H   4b - 05010000    ...\n",
            "17  2.313265             0.073 | Host Command    | H->D   4b - 02010000    ...    | H->D   0b -             ...\n",
            "18  2.314041             3.149 | Device Data     | D->H   0b -             ...    | D->H  20b - c40201012004...\n",
            "19  2.317006             0.097 | Host Command    | H->D  36b - 4402010133f8...    | H->D   0b -             ...\n",
            "20  2.317855            12.447 | Device Data     | D->H   0b -             ...    | D->H  64b - 1a2b930cb87d...\n",
            "21  2.354874             0.097 | Host Command    | H->D  36b - 44030101636b...    | H->D   0b -             ...\n",
            "22  2.354903             0.150 | Device Data     | D->H   0b -             ...    | D->H  20b - c40301012044...\n",
            "23  2.391416             0.127 | Device Data     | D->H   0b -             ...    | D->H  64b - 2c9d4d561e42...\n",
            "24  2.428722           237.636 | Device Data     | D->H   0b -             ...    | D->H  20b - c4040101000c...\n",
            "25  2.666189             0.117 | Host Command    | H->D  36b - 44040101c511...    | H->D   0b -             ...\n",
            "26  2.666577            13.753 | Device Data     | D->H   0b -             ...    | D->H  64b - c0721034dcf1...\n",
            "27  2.680764             0.207 | Device Data     | D->H   0b -             ...    | D->H  20b - c40501015004...\n",
            "28  2.680792             0.095 | Host Command    | H->D  36b - 440501019c40...    | H->D   0b -             ...\n",
            "29  2.682175            12.187 | Device Data     | D->H   0b -             ...    | D->H  16b - 75ebec2faf04...\n",
            "30  2.694960             0.344 | Device Data     | D->H   0b -             ...    | D->H  36b - 4c000302d3d8...\n",
            "31  2.695120             0.174 | Host Command    | H->D  36b - 4c0600024dfc...    | H->D   0b -             ...\n",
            "32  2.695603             0.972 | Device Data     | D->H   0b -             ...    | D->H 188b - 4107020b0800...\n",
            "33  2.695760             0.627 | Host Command    | H->D   4b - 0c071000    ...    | H->D   0b -             ...\n",
            "34  2.696993             0.865 | Device Data     | D->H   0b -             ...    | D->H   8b - 4108c2ff0002...\n",
            "35  2.697101             0.257 | Host Command    | H->D   4b - 0c080004    ...    | H->D   0b -             ...\n",
            "36  2.699054             0.294 | Device Data     | D->H   0b -             ...    | D->H   4b - 05090000    ...\n",
            "37  2.699211             0.070 | Host Command    | H->D   4b - 0f090000    ...    | H->D   0b -             ...\n",
            "38  2.706513            53.794 | Device Data     | D->H   0b -             ...    | D->H  52b - 410a82020100...\n",
            "39  2.760143             0.082 | Host Command    | H->D   4b - 0c0a0200    ...    | H->D   0b -             ...\n",
            "40  2.762037           208.511 | Device Data     | D->H   0b -             ...    | D->H  52b - 410b82020100...\n",
            "--------------------------------------------------------------------------------------------------------------\n",
            "... and 170 more transactions.\n"
          ]
        }
      ],
      "source": [
        "# Process the session data into a chronological list of transactions\n",
        "transactions = get_transactions(session_df)\n",
        "\n",
        "# Display the transaction log\n",
        "print_transaction_log(transactions, limit=40)\n"
      ]
    },
    {
      "cell_type": "code",
      "execution_count": 3,
      "metadata": {},
      "outputs": [
        {
          "name": "stdout",
          "output_type": "stream",
          "text": [
            "--- TRANSACTION STATISTICS ---\n",
            "\\nTransaction Counts by Type:\n",
            "  - Device Data    :  100 transactions (47.6%)\n",
            "  - Host Command   :   95 transactions (45.2%)\n",
            "  - Control Setup  :   13 transactions (6.2%)\n",
            "  - Control/ACK    :    2 transactions (1.0%)\n",
            "\\nAverage Duration by Type (ms):\n",
            "  - Control Setup  : Avg:    0.212ms | Min:    0.163ms | Max:    0.419ms\n",
            "  - Control/ACK    : Avg:   78.655ms | Min:   74.941ms | Max:   82.369ms\n",
            "  - Device Data    : Avg:  157.882ms | Min:    0.074ms | Max:  237.636ms\n",
            "  - Host Command   : Avg:    0.111ms | Min:    0.068ms | Max:    0.627ms\n",
            "\\nData Transfer by Type:\n",
            "  - Control Setup  : Total:   339 bytes | Avg per Tx:   26.1 bytes\n",
            "  - Control/ACK    : Total:     0 bytes | Avg per Tx:    0.0 bytes\n",
            "  - Device Data    : Total:  4872 bytes | Avg per Tx:   48.7 bytes\n",
            "  - Host Command   : Total:   540 bytes | Avg per Tx:    5.7 bytes\n"
          ]
        }
      ],
      "source": [
        "from collections import Counter\n",
        "\n",
        "# --- Transaction Statistics ---\n",
        "print('--- TRANSACTION STATISTICS ---')\n",
        "\n",
        "# 1. Count by Type\n",
        "type_counts = Counter(tx['type'] for tx in transactions)\n",
        "print('\\\\nTransaction Counts by Type:')\n",
        "for tx_type, count in type_counts.most_common():\n",
        "    percentage = (count / len(transactions)) * 100\n",
        "    print(f'  - {tx_type:<15}: {count:>4} transactions ({percentage:.1f}%)')\n",
        "\n",
        "# 2. Duration Statistics by Type\n",
        "duration_stats = {}\n",
        "for tx in transactions:\n",
        "    tx_type = tx['type']\n",
        "    if tx_type not in duration_stats:\n",
        "        duration_stats[tx_type] = []\n",
        "    duration_stats[tx_type].append(tx['duration_ms'])\n",
        "\n",
        "print('\\\\nAverage Duration by Type (ms):')\n",
        "for tx_type, durations in sorted(duration_stats.items()):\n",
        "    avg_duration = sum(durations) / len(durations)\n",
        "    min_duration = min(durations)\n",
        "    max_duration = max(durations)\n",
        "    print(f'  - {tx_type:<15}: Avg: {avg_duration:8.3f}ms | Min: {min_duration:8.3f}ms | Max: {max_duration:8.3f}ms')\n",
        "    \n",
        "# 3. Data Transfer Statistics\n",
        "print('\\\\nData Transfer by Type:')\n",
        "data_transfer_stats = {}\n",
        "for tx in transactions:\n",
        "    tx_type = tx['type']\n",
        "    if tx_type not in data_transfer_stats:\n",
        "        data_transfer_stats[tx_type] = {'submit_bytes': 0, 'complete_bytes': 0, 'count': 0}\n",
        "    \n",
        "    data_transfer_stats[tx_type]['submit_bytes'] += tx['submit']['data_length'][0]\n",
        "    data_transfer_stats[tx_type]['complete_bytes'] += tx['complete']['data_length'][0]\n",
        "    data_transfer_stats[tx_type]['count'] += 1\n",
        "\n",
        "for tx_type, stats in sorted(data_transfer_stats.items()):\n",
        "    total_bytes = stats['submit_bytes'] + stats['complete_bytes']\n",
        "    avg_bytes = total_bytes / stats['count']\n",
        "    print(f'  - {tx_type:<15}: Total: {total_bytes:>5} bytes | Avg per Tx: {avg_bytes:6.1f} bytes')\n"
      ]
    },
    {
      "cell_type": "code",
      "execution_count": null,
      "metadata": {},
      "outputs": [],
      "source": []
    }
  ],
  "metadata": {
    "kernelspec": {
      "display_name": "KM003C Research",
      "language": "python",
      "name": "km003c-protocol-research"
    },
    "language_info": {
      "codemirror_mode": {
        "name": "ipython",
        "version": 3
      },
      "file_extension": ".py",
      "mimetype": "text/x-python",
      "name": "python",
      "nbconvert_exporter": "python",
      "pygments_lexer": "ipython3",
      "version": "3.11.13"
    }
  },
  "nbformat": 4,
  "nbformat_minor": 2
}
