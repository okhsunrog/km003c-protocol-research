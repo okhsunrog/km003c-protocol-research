{
 "cells": [
  {
   "cell_type": "markdown",
   "metadata": {},
   "source": [
    "# USB Protocol Analysis\n",
    "\n",
    "Use the dropdown below to select a specific capture file (`source_file`) to analyze. Select 'All' to view aggregated data from all captures.\n"
   ]
  },
  {
   "cell_type": "code",
   "execution_count": 1,
   "metadata": {},
   "outputs": [
    {
     "name": "stdout",
     "output_type": "stream",
     "text": [
      "✅ Project root found at: /home/okhsunrog/code/km003c-protocol-research\n",
      "✅ Added to sys.path: /home/okhsunrog/code/km003c-protocol-research/analysis/scripts\n",
      "✅ Successfully imported helpers.py\n",
      "✅ Loaded 12,008 USB packets from /home/okhsunrog/code/km003c-protocol-research/usb_master_dataset.parquet\n"
     ]
    }
   ],
   "source": [
    "import polars as pl\n",
    "import ipywidgets as widgets\n",
    "from ipywidgets import VBox, Dropdown, Output, HTML\n",
    "from IPython.display import display\n",
    "import sys\n",
    "from pathlib import Path\n",
    "import warnings\n",
    "\n",
    "warnings.filterwarnings('ignore', category=UserWarning, module='polars')\n",
    "\n",
    "\n",
    "# --- Path Setup ---\n",
    "# To make imports robust, we'll find the project root and add the scripts directory to the path.\n",
    "# The project root is expected to contain the 'pyproject.toml' file.\n",
    "try:\n",
    "    # Start from the current working directory and go up until we find the root\n",
    "    project_root = Path.cwd()\n",
    "    while not (project_root / 'pyproject.toml').exists():\n",
    "        if project_root == project_root.parent:\n",
    "            raise FileNotFoundError(\"Reached filesystem root, 'pyproject.toml' not found.\")\n",
    "        project_root = project_root.parent\n",
    "    \n",
    "    analysis_scripts_path = project_root / 'analysis' / 'scripts'\n",
    "    if str(analysis_scripts_path) not in sys.path:\n",
    "        sys.path.insert(0, str(analysis_scripts_path))\n",
    "    \n",
    "    print(f\"✅ Project root found at: {project_root}\")\n",
    "    print(f\"✅ Added to sys.path: {analysis_scripts_path}\")\n",
    "\n",
    "except FileNotFoundError:\n",
    "    print(\"❌ Could not determine project root. Imports may fail.\")\n",
    "    print(f\"   Current working directory: {Path.cwd()}\")\n",
    "\n",
    "\n",
    "# --- Import and Data Load ---\n",
    "try:\n",
    "    import helpers\n",
    "    print(\"✅ Successfully imported helpers.py\")\n",
    "except ImportError as e:\n",
    "    print(\"❌ Could not import helpers.py. This might be due to a missing dependency in the script itself.\")\n",
    "    print(f\"   Detailed error: {e}\")\n",
    "    helpers = None\n",
    "\n",
    "# Load data\n",
    "df = None\n",
    "if helpers:\n",
    "    try:\n",
    "        # The master dataset is at the project root.\n",
    "        df = helpers.load_master_dataset(project_root / 'usb_master_dataset.parquet')\n",
    "    except FileNotFoundError as e:\n",
    "        print(f\"❌ {e}\")\n"
   ]
  },
  {
   "cell_type": "code",
   "execution_count": 7,
   "metadata": {},
   "outputs": [
    {
     "data": {
      "application/vnd.jupyter.widget-view+json": {
       "model_id": "f5d65f54154142f0bfbd089add529d5b",
       "version_major": 2,
       "version_minor": 0
      },
      "text/plain": [
       "VBox(children=(HTML(value='<h2>USB Transaction Analysis</h2>'), HBox(children=(Dropdown(description='Source Fi…"
      ]
     },
     "metadata": {},
     "output_type": "display_data"
    }
   ],
   "source": [
    "if df is not None and not df.is_empty():\n",
    "    # Get unique source files from the 'source_file' column\n",
    "    source_files = ['All'] + sorted(df['source_file'].unique().to_list())\n",
    "\n",
    "    # --- Create Widgets ---\n",
    "    title = HTML(\"<h2>USB Transaction Analysis</h2>\")\n",
    "    \n",
    "    source_dropdown = Dropdown(\n",
    "        options=source_files,\n",
    "        value='All',\n",
    "        description='Source File:',\n",
    "        style={'description_width': 'initial'},\n",
    "        layout={'width': 'max-content'}\n",
    "    )\n",
    "    \n",
    "    enum_checkbox = widgets.Checkbox(\n",
    "        value=True,\n",
    "        description='Hide Enumeration',\n",
    "        disabled=False,\n",
    "        indent=False\n",
    "    )\n",
    "    \n",
    "    output_area = Output(layout={'height': '400px', 'overflow': 'scroll'})\n",
    "\n",
    "    # --- Define Handler ---\n",
    "    def on_change(change):\n",
    "        \"\"\"Callback to update analysis when a control value changes.\"\"\"\n",
    "        with output_area:\n",
    "            output_area.clear_output(wait=True)\n",
    "            \n",
    "            selected_file = source_dropdown.value\n",
    "            hide_enum = enum_checkbox.value\n",
    "            \n",
    "            if selected_file == 'All':\n",
    "                filtered_df = df\n",
    "                print(f\"📊 Showing transactions for ALL source files.\")\n",
    "            else:\n",
    "                filtered_df = df.filter(pl.col('source_file') == selected_file)\n",
    "                print(f\"📊 Showing transactions for: {selected_file}\")\n",
    "\n",
    "            # Display stats for the selected data\n",
    "            if not filtered_df.is_empty():\n",
    "                # Process and display transactions\n",
    "                transactions = helpers.get_transactions(filtered_df, filter_out_enumeration=hide_enum)\n",
    "                helpers.print_transaction_log(transactions, limit=200) # Limit to 200 for notebook display\n",
    "            else:\n",
    "                print(\"No data available for this selection.\")\n",
    "\n",
    "    # --- Wire up and Display ---\n",
    "    source_dropdown.observe(on_change, names='value')\n",
    "    enum_checkbox.observe(on_change, names='value')\n",
    "\n",
    "    # Display widgets\n",
    "    controls = widgets.HBox([source_dropdown, enum_checkbox])\n",
    "    display(VBox([title, controls, output_area]))\n",
    "\n",
    "    # Trigger initial display\n",
    "    on_change(None)\n",
    "\n",
    "elif df is not None and df.is_empty():\n",
    "    print(\"Dataset is loaded but empty. No analysis to display.\")\n",
    "else:\n",
    "    print(\"Dataset could not be loaded. Cannot build UI.\")"
   ]
  }
 ],
 "metadata": {
  "kernelspec": {
   "display_name": ".venv",
   "language": "python",
   "name": "python3"
  },
  "language_info": {
   "codemirror_mode": {
    "name": "ipython",
    "version": 3
   },
   "file_extension": ".py",
   "mimetype": "text/x-python",
   "name": "python",
   "nbconvert_exporter": "python",
   "pygments_lexer": "ipython3",
   "version": "3.11.13"
  }
 },
 "nbformat": 4,
 "nbformat_minor": 2
}
