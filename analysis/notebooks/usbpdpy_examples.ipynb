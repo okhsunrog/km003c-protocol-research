{
 "cells": [
  {
   "cell_type": "markdown",
   "metadata": {},
   "source": [
    "# USB PD Analysis with usbpdpy\n",
    "\n",
    "This notebook demonstrates how to use the `usbpdpy` package for analyzing USB Power Delivery messages.\n",
    "\n",
    "`usbpdpy` provides fast Python bindings to the Rust `usbpd` crate for parsing USB PD protocol messages.\n"
   ]
  },
  {
   "cell_type": "markdown",
   "metadata": {},
   "source": [
    "## Setup and Imports\n"
   ]
  },
  {
   "cell_type": "code",
   "execution_count": null,
   "metadata": {},
   "outputs": [],
   "source": "import usbpdpy\nimport polars as pl\nimport matplotlib.pyplot as plt\nimport seaborn as sns\nimport numpy as np\n\n# Set up plotting style\nplt.style.use('seaborn-v0_8')\nsns.set_palette(\"husl\")\n\nprint(\"✅ usbpdpy imported successfully!\")\nprint(f\"Available functions: {[func for func in dir(usbpdpy) if not func.startswith('_')]}\")"
  },
  {
   "cell_type": "markdown",
   "metadata": {},
   "source": [
    "## Basic Usage Examples\n"
   ]
  },
  {
   "cell_type": "code",
   "execution_count": 3,
   "metadata": {},
   "outputs": [
    {
     "name": "stdout",
     "output_type": "stream",
     "text": [
      "Hex: 1161 -> Bytes: b'\\x11a'\n",
      "\n",
      "📦 Parsed Message:\n",
      "  Type: 17\n",
      "  Name: Get_Source_Cap_Extended\n",
      "  Data Role: UFP\n",
      "  Power Role: Source\n",
      "  Message ID: 0\n",
      "  Data Objects: 6\n",
      "  Extended: False\n",
      "  Raw Hex: 1161\n"
     ]
    }
   ],
   "source": [
    "# Example 1: Parse a single USB PD message from hex string\n",
    "hex_message = \"1161\"  # Example GoodCRC message\n",
    "\n",
    "# Convert hex to bytes\n",
    "message_bytes = usbpdpy.hex_to_bytes(hex_message)\n",
    "print(f\"Hex: {hex_message} -> Bytes: {message_bytes}\")\n",
    "\n",
    "# Parse the message\n",
    "message = usbpdpy.parse_pd_message(message_bytes)\n",
    "\n",
    "print(f\"\\n📦 Parsed Message:\")\n",
    "print(f\"  Type: {message.header.message_type}\")\n",
    "print(f\"  Name: {usbpdpy.get_message_type_name(message.header.message_type)}\")\n",
    "print(f\"  Data Role: {message.header.port_data_role}\")\n",
    "print(f\"  Power Role: {message.header.port_power_role}\")\n",
    "print(f\"  Message ID: {message.header.message_id}\")\n",
    "print(f\"  Data Objects: {message.header.number_of_data_objects}\")\n",
    "print(f\"  Extended: {message.header.extended}\")\n",
    "print(f\"  Raw Hex: {message.get_hex()}\")\n"
   ]
  },
  {
   "cell_type": "code",
   "execution_count": 4,
   "metadata": {},
   "outputs": [
    {
     "name": "stdout",
     "output_type": "stream",
     "text": [
      "📊 Parsing multiple USB PD messages:\n",
      "==================================================\n",
      " 1. 1161 -> Get_Source_Cap_Extended\n",
      " 2. 0143 -> GoodCRC\n",
      " 3. 0744 -> Get_Source_Cap\n",
      " 4. 0865 -> Get_Sink_Cap\n",
      " 5. 0A01 -> PR_Swap\n",
      " 6. 0C01 -> Wait\n",
      " 7. 0D01 -> Soft_Reset\n",
      "\n",
      "✅ Successfully parsed 7 messages\n"
     ]
    }
   ],
   "source": [
    "# Example 2: Parse multiple messages\n",
    "test_messages = [\n",
    "    \"1161\",  # Get_Source_Cap_Extended\n",
    "    \"0143\",  # GoodCRC  \n",
    "    \"0744\",  # Get_Source_Cap\n",
    "    \"0865\",  # Get_Sink_Cap\n",
    "    \"0A01\",  # PR_Swap\n",
    "    \"0C01\",  # Wait\n",
    "    \"0D01\",  # Soft_Reset\n",
    "]\n",
    "\n",
    "print(\"📊 Parsing multiple USB PD messages:\")\n",
    "print(\"=\" * 50)\n",
    "\n",
    "parsed_messages = []\n",
    "for i, hex_msg in enumerate(test_messages, 1):\n",
    "    try:\n",
    "        msg_bytes = usbpdpy.hex_to_bytes(hex_msg)\n",
    "        message = usbpdpy.parse_pd_message(msg_bytes)\n",
    "        \n",
    "        parsed_messages.append({\n",
    "            'hex': hex_msg,\n",
    "            'type': message.header.message_type,\n",
    "            'name': usbpdpy.get_message_type_name(message.header.message_type),\n",
    "            'data_role': message.header.port_data_role,\n",
    "            'power_role': message.header.port_power_role,\n",
    "            'message_id': message.header.message_id,\n",
    "            'data_objects': message.header.number_of_data_objects,\n",
    "            'extended': message.header.extended\n",
    "        })\n",
    "        \n",
    "        print(f\"{i:2d}. {hex_msg} -> {usbpdpy.get_message_type_name(message.header.message_type)}\")\n",
    "        \n",
    "    except Exception as e:\n",
    "        print(f\"{i:2d}. {hex_msg} -> ❌ Error: {e}\")\n",
    "\n",
    "print(f\"\\n✅ Successfully parsed {len(parsed_messages)} messages\")\n"
   ]
  },
  {
   "cell_type": "markdown",
   "metadata": {},
   "source": [
    "## Data Analysis with Pandas\n"
   ]
  },
  {
   "cell_type": "code",
   "execution_count": null,
   "metadata": {},
   "outputs": [],
   "source": "# Convert parsed messages to DataFrame for analysis\ndf = pl.DataFrame(parsed_messages)\n\nprint(\"📊 USB PD Messages DataFrame:\")\nprint(df)\n\nprint(f\"\\n📈 Summary Statistics:\")\nprint(f\"  Total messages: {len(df)}\")\nprint(f\"  Unique message types: {df['type'].n_unique()}\")\nprint(f\"  Most common message: {df['name'].mode().to_list()[0]}\")\n\nprint(f\"\\n🔍 Message Type Distribution:\")\ntype_counts = df['name'].value_counts().sort(\"count\", descending=True)\nprint(type_counts)"
  },
  {
   "cell_type": "markdown",
   "metadata": {},
   "source": [
    "## Visualization\n"
   ]
  },
  {
   "cell_type": "code",
   "execution_count": null,
   "metadata": {},
   "outputs": [],
   "source": "# Create visualizations\nfig, ((ax1, ax2), (ax3, ax4)) = plt.subplots(2, 2, figsize=(15, 10))\n\n# Convert to pandas for plotting (since matplotlib works better with pandas)\ndf_pd = df.to_pandas()\n\n# 1. Message Type Distribution\ntype_counts_pd = df_pd['name'].value_counts()\ntype_counts_pd.plot(kind='bar', ax=ax1, color='skyblue')\nax1.set_title('USB PD Message Type Distribution')\nax1.set_xlabel('Message Type')\nax1.set_ylabel('Count')\nax1.tick_params(axis='x', rotation=45)\n\n# 2. Data Role Distribution  \ndf_pd['data_role'].value_counts().plot(kind='pie', ax=ax2, autopct='%1.1f%%')\nax2.set_title('Port Data Role Distribution')\nax2.set_ylabel('')\n\n# 3. Power Role Distribution\ndf_pd['power_role'].value_counts().plot(kind='pie', ax=ax3, autopct='%1.1f%%')\nax3.set_title('Port Power Role Distribution')\nax3.set_ylabel('')\n\n# 4. Message ID Distribution\ndf_pd['message_id'].value_counts().sort_index().plot(kind='bar', ax=ax4, color='lightgreen')\nax4.set_title('Message ID Distribution')\nax4.set_xlabel('Message ID')\nax4.set_ylabel('Count')\n\nplt.tight_layout()\nplt.show()"
  },
  {
   "cell_type": "markdown",
   "metadata": {},
   "source": [
    "## Advanced Usage: Batch Processing\n"
   ]
  },
  {
   "cell_type": "code",
   "execution_count": null,
   "metadata": {},
   "outputs": [],
   "source": "# Create DataFrame and analyze\ndf_large = pl.DataFrame(results)\n\nprint(f\"✅ Successfully processed: {len(results)} messages\")\nprint(f\"❌ Errors: {errors}\")\nprint(f\"\\n📈 Large Dataset Statistics:\")\nprint(f\"  Message types found: {df_large['name'].n_unique()}\")\nprint(f\"  Most common: {df_large['name'].value_counts().sort('count', descending=True).head()}\")\n\n# Show processing speed\nprint(f\"\\n⚡ Performance: Processed {len(large_dataset)} messages using fast Rust backend!\")"
  },
  {
   "cell_type": "markdown",
   "metadata": {},
   "source": [
    "## Error Handling and Edge Cases\n"
   ]
  },
  {
   "cell_type": "code",
   "execution_count": null,
   "metadata": {},
   "outputs": [],
   "source": [
    "# Test error handling with various invalid inputs\n",
    "test_cases = [\n",
    "    (\"\", \"Empty string\"),\n",
    "    (\"1\", \"Too short hex\"),\n",
    "    (\"invalid\", \"Invalid hex characters\"),\n",
    "    (\"G1\", \"Invalid hex character G\"),\n",
    "    (\"1161FF\", \"Valid hex but might be too long for message\"),\n",
    "]\n",
    "\n",
    "print(\"🧪 Testing Error Handling:\")\n",
    "print(\"=\" * 40)\n",
    "\n",
    "for test_input, description in test_cases:\n",
    "    try:\n",
    "        if test_input:\n",
    "            msg_bytes = usbpdpy.hex_to_bytes(test_input)\n",
    "            message = usbpdpy.parse_pd_message(msg_bytes)\n",
    "            print(f\"✅ '{test_input}' ({description}): Success - {usbpdpy.get_message_type_name(message.header.message_type)}\")\n",
    "        else:\n",
    "            # Handle empty string case\n",
    "            msg_bytes = usbpdpy.hex_to_bytes(test_input)\n",
    "            print(f\"✅ '{test_input}' ({description}): Empty bytes returned\")\n",
    "    except Exception as e:\n",
    "        print(f\"❌ '{test_input}' ({description}): {type(e).__name__}: {e}\")\n",
    "\n",
    "print(\"\\n🔍 Message Type Lookup Tests:\")\n",
    "for msg_type in [0, 1, 7, 25, 255]:\n",
    "    name = usbpdpy.get_message_type_name(msg_type)\n",
    "    print(f\"  Type {msg_type:3d}: {name}\")\n"
   ]
  },
  {
   "cell_type": "markdown",
   "metadata": {},
   "source": [
    "## Summary\n",
    "\n",
    "This notebook demonstrates the key features of the `usbpdpy` package:\n",
    "\n",
    "### ✅ **What We Covered:**\n",
    "- **Basic message parsing** from hex strings to structured data\n",
    "- **Batch processing** of multiple messages efficiently  \n",
    "- **Data analysis** using pandas DataFrames\n",
    "- **Visualization** of USB PD message patterns\n",
    "- **Error handling** for invalid inputs\n",
    "- **Performance** benefits of Rust-powered parsing\n",
    "\n",
    "### 🚀 **Key Benefits:**\n",
    "- **Fast parsing** using Rust backend\n",
    "- **Simple Python API** for easy integration\n",
    "- **Comprehensive message type support** \n",
    "- **Robust error handling**\n",
    "- **Zero runtime dependencies**\n",
    "\n",
    "### 📊 **Use Cases:**\n",
    "- USB PD protocol analysis and reverse engineering\n",
    "- PCAPNG file processing and analysis  \n",
    "- Real-time USB PD message monitoring\n",
    "- Protocol compliance testing\n",
    "- Research and development\n",
    "\n",
    "The `usbpdpy` package provides a powerful foundation for USB Power Delivery analysis in Python!\n"
   ]
  }
 ],
 "metadata": {
  "kernelspec": {
   "display_name": ".venv",
   "language": "python",
   "name": "python3"
  },
  "language_info": {
   "codemirror_mode": {
    "name": "ipython",
    "version": 3
   },
   "file_extension": ".py",
   "mimetype": "text/x-python",
   "name": "python",
   "nbconvert_exporter": "python",
   "pygments_lexer": "ipython3",
   "version": "3.11.13"
  }
 },
 "nbformat": 4,
 "nbformat_minor": 2
}